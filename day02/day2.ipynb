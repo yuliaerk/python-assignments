{
 "cells": [
  {
   "cell_type": "code",
   "execution_count": null,
   "id": "502661be-63a5-45cb-9dbf-6d80b31ae418",
   "metadata": {},
   "outputs": [
    {
     "data": {
      "text/plain": [
       "6"
      ]
     },
     "execution_count": 1,
     "metadata": {},
     "output_type": "execute_result"
    }
   ],
   "source": [
    "width = 2\n",
    "length = 3\n",
    "area = width * length\n",
    "area\n"
   ]
  },
  {
   "cell_type": "code",
   "execution_count": 2,
   "id": "b3b6db3b-3fa8-4820-b051-9f6907bc3bfd",
   "metadata": {},
   "outputs": [
    {
     "data": {
      "text/plain": [
       "18.84955592153876"
      ]
     },
     "execution_count": 2,
     "metadata": {},
     "output_type": "execute_result"
    }
   ],
   "source": [
    "radius = 3\n",
    "import math\n",
    "circumference=2*radius*(math.pi)\n",
    "area=((math.pi)*radius**2)\n",
    "area\n",
    "circumference\n"
   ]
  },
  {
   "cell_type": "code",
   "execution_count": null,
   "id": "a786bca6-c85d-4c6f-b586-28ca64e2e210",
   "metadata": {},
   "outputs": [],
   "source": []
  }
 ],
 "metadata": {
  "kernelspec": {
   "display_name": "Python 3",
   "language": "python",
   "name": "python3"
  },
  "language_info": {
   "codemirror_mode": {
    "name": "ipython",
    "version": 3
   },
   "file_extension": ".py",
   "mimetype": "text/x-python",
   "name": "python",
   "nbconvert_exporter": "python",
   "pygments_lexer": "ipython3",
   "version": "3.13.0"
  }
 },
 "nbformat": 4,
 "nbformat_minor": 5
}
